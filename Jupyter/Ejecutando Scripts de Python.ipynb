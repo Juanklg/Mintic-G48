{
 "cells": [
  {
   "cell_type": "markdown",
   "id": "a4a10f68",
   "metadata": {},
   "source": [
    "## Clonar el repositorio"
   ]
  },
  {
   "cell_type": "markdown",
   "id": "e529d1db",
   "metadata": {},
   "source": [
    "Desde Github vamos a clonar un reposiotio creado para los scripts o codigos del curso\n",
    "Rutas de repositorios\n",
    "- https://github.com/Juanklg/G29-MinTic.git\n",
    "- https://github.com/Juanklg/Mintic-G48.git\n",
    "- https://github.com/Juanklg/G61-MinTic.git\n",
    "\n",
    "Para clonar un repositorio nos ubicamos en el terminal de visula stuido code\n",
    "\n"
   ]
  },
  {
   "cell_type": "code",
   "execution_count": null,
   "id": "76544bfe",
   "metadata": {},
   "outputs": [],
   "source": []
  },
  {
   "cell_type": "markdown",
   "id": "293e78c4",
   "metadata": {},
   "source": [
    "Una vez ubicados en la ruta donde se va a descargarla carpeta ejecutamos el comando git clone con la ruta del repositorio del respectivo grupo"
   ]
  },
  {
   "cell_type": "code",
   "execution_count": null,
   "id": "d1c53035",
   "metadata": {},
   "outputs": [],
   "source": []
  },
  {
   "cell_type": "markdown",
   "id": "f22c783a",
   "metadata": {},
   "source": [
    "Esperamos aque se cmplete la descragra y verificaos que la carpeta se agregre a nuestro espacio de trabajo"
   ]
  },
  {
   "cell_type": "code",
   "execution_count": null,
   "id": "c60e6248",
   "metadata": {},
   "outputs": [],
   "source": []
  },
  {
   "cell_type": "markdown",
   "id": "6b39855c",
   "metadata": {},
   "source": [
    "## Abrir la ruta del archivo en la terminal"
   ]
  },
  {
   "cell_type": "code",
   "execution_count": null,
   "id": "dafe4acb",
   "metadata": {},
   "outputs": [],
   "source": []
  },
  {
   "cell_type": "code",
   "execution_count": null,
   "id": "04a9a450",
   "metadata": {},
   "outputs": [],
   "source": []
  },
  {
   "cell_type": "markdown",
   "id": "4538c35b",
   "metadata": {},
   "source": [
    "## Ejecutar un Script"
   ]
  },
  {
   "cell_type": "code",
   "execution_count": null,
   "id": "49e162d3",
   "metadata": {},
   "outputs": [],
   "source": []
  },
  {
   "cell_type": "code",
   "execution_count": null,
   "id": "ac55c075",
   "metadata": {},
   "outputs": [],
   "source": []
  },
  {
   "cell_type": "code",
   "execution_count": null,
   "id": "d7123273",
   "metadata": {},
   "outputs": [],
   "source": []
  }
 ],
 "metadata": {
  "kernelspec": {
   "display_name": "Python 3 (ipykernel)",
   "language": "python",
   "name": "python3"
  },
  "language_info": {
   "codemirror_mode": {
    "name": "ipython",
    "version": 3
   },
   "file_extension": ".py",
   "mimetype": "text/x-python",
   "name": "python",
   "nbconvert_exporter": "python",
   "pygments_lexer": "ipython3",
   "version": "3.9.6"
  }
 },
 "nbformat": 4,
 "nbformat_minor": 5
}
