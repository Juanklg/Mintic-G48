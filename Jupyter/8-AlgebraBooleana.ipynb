{
 "cells": [
  {
   "cell_type": "markdown",
   "id": "431a0f2e",
   "metadata": {},
   "source": [
    "### Algebra Booleana"
   ]
  },
  {
   "cell_type": "code",
   "execution_count": 1,
   "id": "d4fc89d9",
   "metadata": {},
   "outputs": [],
   "source": [
    "A=True\n",
    "B=True\n",
    "print(f\"Conjuncion = {A and B}\")\n",
    "print(f\"Disyuncion = {A or B}\")"
   ]
  },
  {
   "cell_type": "code",
   "execution_count": 2,
   "id": "5a27ac68",
   "metadata": {},
   "outputs": [],
   "source": [
    "A=True\n",
    "B=False\n",
    "print(f\"Conjuncion = {A and B}\")\n",
    "print(f\"Disyuncion = {A or B}\")"
   ]
  },
  {
   "cell_type": "code",
   "execution_count": 3,
   "id": "c91477e1",
   "metadata": {},
   "outputs": [],
   "source": [
    "A=False\n",
    "B=True\n",
    "print(f\"Conjuncion = {A and B}\")\n",
    "print(f\"Disyuncion = {A or B}\")"
   ]
  },
  {
   "cell_type": "code",
   "execution_count": 4,
   "id": "542bc8a6",
   "metadata": {},
   "outputs": [],
   "source": [
    "A=False\n",
    "B=False\n",
    "print(f\"Conjuncion = {A and B}\")\n",
    "print(f\"Disyuncion = {A or B}\")"
   ]
  },
  {
   "cell_type": "markdown",
   "id": "905472cf",
   "metadata": {},
   "source": [
    "## Leyes Fundamentales\n",
    "\n",
    "#### Conmutatividad"
   ]
  },
  {
   "cell_type": "code",
   "execution_count": 5,
   "id": "8a652982",
   "metadata": {},
   "outputs": [],
   "source": [
    "A=True\n",
    "B=False\n",
    "print(A or B)\n",
    "print(B or A)"
   ]
  },
  {
   "cell_type": "code",
   "execution_count": 6,
   "id": "2b00a36c",
   "metadata": {},
   "outputs": [],
   "source": [
    "A=True\n",
    "B=False\n",
    "print(A and B)\n",
    "print(B and A)"
   ]
  },
  {
   "cell_type": "markdown",
   "id": "74d0ee8f",
   "metadata": {},
   "source": [
    "#### Asociatividad"
   ]
  },
  {
   "cell_type": "code",
   "execution_count": 7,
   "id": "abde02e9",
   "metadata": {},
   "outputs": [],
   "source": [
    "A=True\n",
    "B=False\n",
    "C=True\n",
    "print(A and (B and C))\n",
    "print((A and B) and C)\n",
    "\n",
    "print(A or (B or C))\n",
    "print((A or B) or C)\n"
   ]
  },
  {
   "cell_type": "markdown",
   "id": "000467cc",
   "metadata": {},
   "source": [
    "#### Distribucion"
   ]
  },
  {
   "cell_type": "code",
   "execution_count": 8,
   "id": "6a9e194d",
   "metadata": {},
   "outputs": [],
   "source": [
    "A=True\n",
    "B=False\n",
    "C=True\n",
    "print(A and (B or C))\n",
    "print((A and B) or (A and C))"
   ]
  },
  {
   "cell_type": "code",
   "execution_count": 9,
   "id": "1b0f101f",
   "metadata": {},
   "outputs": [],
   "source": [
    "A=True\n",
    "B=False\n",
    "C=True\n",
    "print(A or (B and C))\n",
    "print((A or B) and (A or C))"
   ]
  },
  {
   "cell_type": "markdown",
   "id": "feb29570",
   "metadata": {},
   "source": [
    "#### Identidad de conjuncion"
   ]
  },
  {
   "cell_type": "code",
   "execution_count": 31,
   "id": "0b384576",
   "metadata": {},
   "outputs": [
    {
     "name": "stdout",
     "output_type": "stream",
     "text": [
      "True\n",
      "False\n"
     ]
    }
   ],
   "source": [
    "A=True\n",
    "print(A and True)\n",
    "A=False\n",
    "print(A and True)"
   ]
  },
  {
   "cell_type": "markdown",
   "id": "37b64f14",
   "metadata": {},
   "source": [
    "#### Identidad de disyuncion"
   ]
  },
  {
   "cell_type": "code",
   "execution_count": 11,
   "id": "43fed9ae",
   "metadata": {},
   "outputs": [],
   "source": [
    "A=True\n",
    "print(A or False)\n",
    "A=False\n",
    "print(A or False)"
   ]
  },
  {
   "cell_type": "markdown",
   "id": "307eb0ae",
   "metadata": {},
   "source": [
    "#### Dominacion de la conjuncion"
   ]
  },
  {
   "cell_type": "code",
   "execution_count": 12,
   "id": "fefdaed7",
   "metadata": {},
   "outputs": [],
   "source": [
    "A=True\n",
    "print(A and False)\n",
    "A=False\n",
    "print(A and False)"
   ]
  },
  {
   "cell_type": "markdown",
   "id": "6678a37e",
   "metadata": {},
   "source": [
    "#### Dominacion de la disyuncion"
   ]
  },
  {
   "cell_type": "code",
   "execution_count": 13,
   "id": "a4e6a919",
   "metadata": {},
   "outputs": [],
   "source": [
    "A=True\n",
    "print(A or True)\n",
    "A=False\n",
    "print(A or True)"
   ]
  },
  {
   "cell_type": "markdown",
   "id": "b611a0bb",
   "metadata": {},
   "source": [
    "#### Negacion y equivalente a falso"
   ]
  },
  {
   "cell_type": "markdown",
   "id": "0e8a506a",
   "metadata": {},
   "source": [
    "A es equivalente a decir A=True\n",
    "\n",
    "¬A o A' es equivalente a decir A=False"
   ]
  },
  {
   "cell_type": "markdown",
   "id": "ae052db5",
   "metadata": {},
   "source": [
    "#### Ley de Morgan"
   ]
  },
  {
   "cell_type": "code",
   "execution_count": 14,
   "id": "563d383d",
   "metadata": {},
   "outputs": [],
   "source": [
    "P=True\n",
    "Q=False\n",
    "print(not (P and Q))\n",
    "print(not P or not Q)"
   ]
  },
  {
   "cell_type": "code",
   "execution_count": 15,
   "id": "f7fa3f5c",
   "metadata": {},
   "outputs": [],
   "source": [
    "P=True\n",
    "Q=False\n",
    "print(not (P or Q))\n",
    "print(not P and not Q)"
   ]
  },
  {
   "cell_type": "markdown",
   "id": "e15993ed",
   "metadata": {},
   "source": [
    "### Ejemplos"
   ]
  },
  {
   "cell_type": "code",
   "execution_count": 2,
   "id": "8c332e62",
   "metadata": {},
   "outputs": [
    {
     "name": "stdout",
     "output_type": "stream",
     "text": [
      "Ingrese x : 5\n"
     ]
    }
   ],
   "source": [
    "#variables numericas y input(los input's siempre seran de type 'str')\n",
    "x = int(input(\"Ingrese x : \"))"
   ]
  },
  {
   "cell_type": "code",
   "execution_count": 3,
   "id": "794e8ced",
   "metadata": {},
   "outputs": [
    {
     "name": "stdout",
     "output_type": "stream",
     "text": [
      "Ingrese y : 6\n"
     ]
    }
   ],
   "source": [
    "#variables numericas y input(los input's siempre seran de type 'str')\n",
    "y = int(input(\"Ingrese y : \"))"
   ]
  },
  {
   "cell_type": "code",
   "execution_count": 19,
   "id": "1f80cf07",
   "metadata": {},
   "outputs": [
    {
     "name": "stdout",
     "output_type": "stream",
     "text": [
      "x es de tipo =  <class 'int'>\n",
      "y es de tipo =  <class 'int'>\n"
     ]
    }
   ],
   "source": [
    "print(\"x es de tipo = \",type(x))\n",
    "print(\"y es de tipo = \",type(y))"
   ]
  },
  {
   "cell_type": "code",
   "execution_count": 4,
   "id": "a551b66a",
   "metadata": {},
   "outputs": [
    {
     "name": "stdout",
     "output_type": "stream",
     "text": [
      "Resultado == : False\n",
      "Resultado != : True\n",
      "Resultado > : False\n",
      "Resultado >= : False\n",
      "Resultado < : True\n",
      "Resultado <= : True\n",
      "Resultado de \"is\" :False\n",
      "Resultado de \"is\" :True\n"
     ]
    }
   ],
   "source": [
    "#algunas delas comparaciones q nos retornan un valor booleano\n",
    "resultado = x == y\n",
    "print(f'Resultado == : {resultado}')\n",
    "\n",
    "resultado = x != y\n",
    "print(f'Resultado != : {resultado}')\n",
    "\n",
    "resultado = x > y\n",
    "print(f'Resultado > : {resultado}')\n",
    "\n",
    "resultado = x >= y\n",
    "print(f'Resultado >= : {resultado}')\n",
    "\n",
    "resultado = x < y\n",
    "print(f'Resultado < : {resultado}')\n",
    "\n",
    "resultado = x <= y\n",
    "print(f'Resultado <= : {resultado}')\n",
    "\n",
    "resultado = x is y\n",
    "print(f'Resultado de \"is\" :{resultado}')\n",
    "\n",
    "resultado = x is not y\n",
    "print(f'Resultado de \"is\" :{resultado}')"
   ]
  },
  {
   "cell_type": "code",
   "execution_count": 23,
   "id": "749e4f6c",
   "metadata": {},
   "outputs": [
    {
     "name": "stdout",
     "output_type": "stream",
     "text": [
      "Resultado and : False\n"
     ]
    }
   ],
   "source": [
    "z=9\n",
    "resultado = x <= y and x>=z\n",
    "print(f'Resultado and : {resultado}')"
   ]
  },
  {
   "cell_type": "code",
   "execution_count": 27,
   "id": "7672332b",
   "metadata": {},
   "outputs": [
    {
     "name": "stdout",
     "output_type": "stream",
     "text": [
      "True\n"
     ]
    }
   ],
   "source": [
    "n=9\n",
    "#si n es multipo de 2 o multiplo de 3\n",
    "print(n%2 == 0 or n%3 == 0)"
   ]
  },
  {
   "cell_type": "code",
   "execution_count": 28,
   "id": "d010a62c",
   "metadata": {},
   "outputs": [
    {
     "name": "stdout",
     "output_type": "stream",
     "text": [
      "False\n"
     ]
    }
   ],
   "source": [
    "A=True\n",
    "print(not A)"
   ]
  },
  {
   "cell_type": "markdown",
   "id": "379c0984",
   "metadata": {},
   "source": [
    "#### Comparacion con otro tipo de variables"
   ]
  },
  {
   "cell_type": "code",
   "execution_count": 29,
   "id": "0c3ea099",
   "metadata": {},
   "outputs": [],
   "source": [
    "def validadorCondicion(any):\n",
    "    print(\"Se ingreso a la funcion\",any)\n",
    "    condicion = True if any else False \n",
    "    return \"La condicion es \"+str(condicion)"
   ]
  },
  {
   "cell_type": "code",
   "execution_count": 30,
   "id": "fe84cd17",
   "metadata": {},
   "outputs": [
    {
     "name": "stdout",
     "output_type": "stream",
     "text": [
      "Se ingreso a la funcion \n",
      "La condicion es False\n",
      "Se ingreso a la funcion True\n",
      "La condicion es True\n",
      "Se ingreso a la funcion 0\n",
      "La condicion es False\n",
      "Se ingreso a la funcion True\n",
      "La condicion es True\n",
      "Se ingreso a la funcion False\n",
      "La condicion es False\n",
      "Se ingreso a la funcion True\n",
      "La condicion es True\n"
     ]
    }
   ],
   "source": [
    "print(validadorCondicion(\"\" and True))\n",
    "print(validadorCondicion(\"A\" and True))\n",
    "print(validadorCondicion(0 and True))\n",
    "print(validadorCondicion(15 and True))\n",
    "print(validadorCondicion(False and True))\n",
    "print(validadorCondicion(True and True))"
   ]
  },
  {
   "cell_type": "code",
   "execution_count": null,
   "id": "b645bf5a",
   "metadata": {},
   "outputs": [],
   "source": []
  }
 ],
 "metadata": {
  "kernelspec": {
   "display_name": "Python 3 (ipykernel)",
   "language": "python",
   "name": "python3"
  },
  "language_info": {
   "codemirror_mode": {
    "name": "ipython",
    "version": 3
   },
   "file_extension": ".py",
   "mimetype": "text/x-python",
   "name": "python",
   "nbconvert_exporter": "python",
   "pygments_lexer": "ipython3",
   "version": "3.9.6"
  }
 },
 "nbformat": 4,
 "nbformat_minor": 5
}
