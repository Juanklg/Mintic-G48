{
 "cells": [
  {
   "cell_type": "markdown",
   "id": "905472cf",
   "metadata": {},
   "source": [
    "## Leyes Fundamentales\n",
    "\n",
    "#### Conmutatividad"
   ]
  },
  {
   "cell_type": "code",
   "execution_count": 2,
   "id": "8a652982",
   "metadata": {},
   "outputs": [
    {
     "name": "stdout",
     "output_type": "stream",
     "text": [
      "True\n",
      "True\n"
     ]
    }
   ],
   "source": [
    "A=True\n",
    "B=False\n",
    "print(A or B)\n",
    "print(B or A)"
   ]
  },
  {
   "cell_type": "markdown",
   "id": "74d0ee8f",
   "metadata": {},
   "source": [
    "#### Asociatividad"
   ]
  },
  {
   "cell_type": "code",
   "execution_count": 3,
   "id": "abde02e9",
   "metadata": {},
   "outputs": [
    {
     "name": "stdout",
     "output_type": "stream",
     "text": [
      "False\n",
      "False\n",
      "True\n",
      "True\n"
     ]
    }
   ],
   "source": [
    "A=True\n",
    "B=False\n",
    "C=True\n",
    "print(A and (B and C))\n",
    "print((A and B) and C)\n",
    "\n",
    "print(A or (B or C))\n",
    "print((A or B) or C)\n"
   ]
  },
  {
   "cell_type": "markdown",
   "id": "000467cc",
   "metadata": {},
   "source": [
    "#### Distribucion"
   ]
  },
  {
   "cell_type": "code",
   "execution_count": 5,
   "id": "6a9e194d",
   "metadata": {},
   "outputs": [
    {
     "name": "stdout",
     "output_type": "stream",
     "text": [
      "True\n",
      "True\n"
     ]
    }
   ],
   "source": [
    "A=True\n",
    "B=False\n",
    "C=True\n",
    "print(A and (B or C))\n",
    "print((A and B) or (A and C))"
   ]
  },
  {
   "cell_type": "code",
   "execution_count": 6,
   "id": "1b0f101f",
   "metadata": {},
   "outputs": [
    {
     "name": "stdout",
     "output_type": "stream",
     "text": [
      "True\n",
      "True\n"
     ]
    }
   ],
   "source": [
    "A=True\n",
    "B=False\n",
    "C=True\n",
    "print(A or (B and C))\n",
    "print((A or B) and (A or C))"
   ]
  },
  {
   "cell_type": "markdown",
   "id": "feb29570",
   "metadata": {},
   "source": [
    "#### Identidad de conjuncion"
   ]
  },
  {
   "cell_type": "code",
   "execution_count": 7,
   "id": "0b384576",
   "metadata": {},
   "outputs": [
    {
     "name": "stdout",
     "output_type": "stream",
     "text": [
      "True\n",
      "False\n"
     ]
    }
   ],
   "source": [
    "A=True\n",
    "print(A and True)\n",
    "A=False\n",
    "print(A and True)"
   ]
  },
  {
   "cell_type": "markdown",
   "id": "37b64f14",
   "metadata": {},
   "source": [
    "#### Identidad de disyuncion"
   ]
  },
  {
   "cell_type": "code",
   "execution_count": 8,
   "id": "43fed9ae",
   "metadata": {},
   "outputs": [
    {
     "name": "stdout",
     "output_type": "stream",
     "text": [
      "True\n",
      "False\n"
     ]
    }
   ],
   "source": [
    "A=True\n",
    "print(A or False)\n",
    "A=False\n",
    "print(A or False)"
   ]
  },
  {
   "cell_type": "markdown",
   "id": "307eb0ae",
   "metadata": {},
   "source": [
    "#### Dominacion de la conjuncion"
   ]
  },
  {
   "cell_type": "code",
   "execution_count": 9,
   "id": "fefdaed7",
   "metadata": {},
   "outputs": [
    {
     "name": "stdout",
     "output_type": "stream",
     "text": [
      "False\n",
      "False\n"
     ]
    }
   ],
   "source": [
    "A=True\n",
    "print(A and False)\n",
    "A=False\n",
    "print(A and False)"
   ]
  },
  {
   "cell_type": "markdown",
   "id": "6678a37e",
   "metadata": {},
   "source": [
    "#### Dominacion de la disyuncion"
   ]
  },
  {
   "cell_type": "code",
   "execution_count": 10,
   "id": "a4e6a919",
   "metadata": {},
   "outputs": [
    {
     "name": "stdout",
     "output_type": "stream",
     "text": [
      "True\n",
      "True\n"
     ]
    }
   ],
   "source": [
    "A=True\n",
    "print(A or True)\n",
    "A=False\n",
    "print(A or True)"
   ]
  },
  {
   "cell_type": "markdown",
   "id": "b611a0bb",
   "metadata": {},
   "source": [
    "#### Negacion y equivalente a falso"
   ]
  },
  {
   "cell_type": "markdown",
   "id": "0e8a506a",
   "metadata": {},
   "source": [
    "A es equivalente a decir A=True\n",
    "¬A o A' es equivalente a decir A=False"
   ]
  },
  {
   "cell_type": "markdown",
   "id": "ae052db5",
   "metadata": {},
   "source": [
    "#### Ley de Morgan"
   ]
  },
  {
   "cell_type": "code",
   "execution_count": 14,
   "id": "563d383d",
   "metadata": {},
   "outputs": [
    {
     "name": "stdout",
     "output_type": "stream",
     "text": [
      "True\n",
      "True\n"
     ]
    }
   ],
   "source": [
    "P=True\n",
    "Q=False\n",
    "print(not (P and Q))\n",
    "print(not P or not Q)"
   ]
  },
  {
   "cell_type": "code",
   "execution_count": 15,
   "id": "f7fa3f5c",
   "metadata": {},
   "outputs": [
    {
     "name": "stdout",
     "output_type": "stream",
     "text": [
      "False\n",
      "False\n"
     ]
    }
   ],
   "source": [
    "P=True\n",
    "Q=False\n",
    "print(not (P or Q))\n",
    "print(not P and not Q)"
   ]
  },
  {
   "cell_type": "markdown",
   "id": "e15993ed",
   "metadata": {},
   "source": [
    "### Ejemplos"
   ]
  },
  {
   "cell_type": "code",
   "execution_count": 20,
   "id": "7672332b",
   "metadata": {},
   "outputs": [
    {
     "name": "stdout",
     "output_type": "stream",
     "text": [
      "False\n"
     ]
    }
   ],
   "source": [
    "n=11\n",
    "#si n es multipo de 2 o multiplo de 3\n",
    "print(n%2 == 0 or n%3 == 0)"
   ]
  },
  {
   "cell_type": "code",
   "execution_count": null,
   "id": "8c332e62",
   "metadata": {},
   "outputs": [],
   "source": []
  }
 ],
 "metadata": {
  "kernelspec": {
   "display_name": "Python 3 (ipykernel)",
   "language": "python",
   "name": "python3"
  },
  "language_info": {
   "codemirror_mode": {
    "name": "ipython",
    "version": 3
   },
   "file_extension": ".py",
   "mimetype": "text/x-python",
   "name": "python",
   "nbconvert_exporter": "python",
   "pygments_lexer": "ipython3",
   "version": "3.9.6"
  }
 },
 "nbformat": 4,
 "nbformat_minor": 5
}
