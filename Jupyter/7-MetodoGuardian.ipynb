{
 "cells": [
  {
   "cell_type": "markdown",
   "id": "509498ff",
   "metadata": {},
   "source": [
    "### Patron del guardian"
   ]
  },
  {
   "cell_type": "markdown",
   "id": "a64390e7",
   "metadata": {},
   "source": [
    "Validamos primero una condicion que no arroja ningun tipo de error"
   ]
  },
  {
   "cell_type": "code",
   "execution_count": 1,
   "id": "62d09a28",
   "metadata": {},
   "outputs": [
    {
     "data": {
      "text/plain": [
       "True"
      ]
     },
     "execution_count": 1,
     "metadata": {},
     "output_type": "execute_result"
    }
   ],
   "source": [
    "x=6\n",
    "y=2\n",
    "x>=2 and (x/y)>2"
   ]
  },
  {
   "cell_type": "markdown",
   "id": "fcbab0a6",
   "metadata": {},
   "source": [
    "Validamos una condicion que podria da erro de zero Division al ser una conjuncion debe validar ambas condiciones"
   ]
  },
  {
   "cell_type": "code",
   "execution_count": 2,
   "id": "eb95fabe",
   "metadata": {},
   "outputs": [
    {
     "ename": "ZeroDivisionError",
     "evalue": "division by zero",
     "output_type": "error",
     "traceback": [
      "\u001b[1;31m---------------------------------------------------------------------------\u001b[0m",
      "\u001b[1;31mZeroDivisionError\u001b[0m                         Traceback (most recent call last)",
      "\u001b[1;32mC:\\Users\\MAKEDR~1\\AppData\\Local\\Temp/ipykernel_2668/3438564821.py\u001b[0m in \u001b[0;36m<module>\u001b[1;34m\u001b[0m\n\u001b[0;32m      1\u001b[0m \u001b[0mx\u001b[0m\u001b[1;33m=\u001b[0m\u001b[1;36m6\u001b[0m\u001b[1;33m\u001b[0m\u001b[1;33m\u001b[0m\u001b[0m\n\u001b[0;32m      2\u001b[0m \u001b[0my\u001b[0m\u001b[1;33m=\u001b[0m\u001b[1;36m0\u001b[0m\u001b[1;33m\u001b[0m\u001b[1;33m\u001b[0m\u001b[0m\n\u001b[1;32m----> 3\u001b[1;33m \u001b[0mx\u001b[0m\u001b[1;33m>=\u001b[0m\u001b[1;36m2\u001b[0m \u001b[1;32mand\u001b[0m \u001b[1;33m(\u001b[0m\u001b[0mx\u001b[0m\u001b[1;33m/\u001b[0m\u001b[0my\u001b[0m\u001b[1;33m)\u001b[0m\u001b[1;33m>\u001b[0m\u001b[1;36m2\u001b[0m\u001b[1;33m\u001b[0m\u001b[1;33m\u001b[0m\u001b[0m\n\u001b[0m",
      "\u001b[1;31mZeroDivisionError\u001b[0m: division by zero"
     ]
    }
   ],
   "source": [
    "x=6\n",
    "y=0\n",
    "x>=2 and (x/y)>2"
   ]
  },
  {
   "cell_type": "markdown",
   "id": "56487488",
   "metadata": {},
   "source": [
    "En este caso al ser una conjuncion y la primera condicion no cumplirse hace el corto de validacion y no arroja error"
   ]
  },
  {
   "cell_type": "code",
   "execution_count": null,
   "id": "b082fe08",
   "metadata": {},
   "outputs": [],
   "source": [
    "x=1\n",
    "y=0\n",
    "x>=2 and (x/y)>2"
   ]
  },
  {
   "cell_type": "markdown",
   "id": "636bc1e1",
   "metadata": {},
   "source": [
    "Aca vemos como podemos validar que y no sea = 0, antes de validar la condicion de la division evitando el zero Division Error, de igual forma aca se aplica el corto"
   ]
  },
  {
   "cell_type": "code",
   "execution_count": null,
   "id": "e36f8c21",
   "metadata": {},
   "outputs": [],
   "source": [
    "x=1\n",
    "y=0\n",
    "x>=2 and y!=0 and (x/y)>2"
   ]
  },
  {
   "cell_type": "markdown",
   "id": "d37f30f4",
   "metadata": {},
   "source": [
    "Aca validamos  que no se aplique el corto por la validez de la primera condicion  pero solventamos el Zero Division Error con la segunda condicion que valida el divisor de 0"
   ]
  },
  {
   "cell_type": "code",
   "execution_count": null,
   "id": "3089ddd4",
   "metadata": {},
   "outputs": [],
   "source": [
    "x=6\n",
    "y=0\n",
    "x>=2 and y!=0 and (x/y)>2"
   ]
  },
  {
   "cell_type": "markdown",
   "id": "cb74d36f",
   "metadata": {},
   "source": [
    "Es importante recordar que las condiciones se leen de izquierda a derecha y asi se agrege la condicion de y!=0, si no se encuentra antes de la condicion de division no sirve de nada y el error persiste"
   ]
  },
  {
   "cell_type": "code",
   "execution_count": null,
   "id": "13a17bd6",
   "metadata": {},
   "outputs": [],
   "source": [
    "x=6\n",
    "y=0\n",
    "x>=2 and (x/y)>2 and y!=0"
   ]
  },
  {
   "cell_type": "code",
   "execution_count": null,
   "id": "a63625da",
   "metadata": {},
   "outputs": [],
   "source": []
  }
 ],
 "metadata": {
  "kernelspec": {
   "display_name": "Python 3 (ipykernel)",
   "language": "python",
   "name": "python3"
  },
  "language_info": {
   "codemirror_mode": {
    "name": "ipython",
    "version": 3
   },
   "file_extension": ".py",
   "mimetype": "text/x-python",
   "name": "python",
   "nbconvert_exporter": "python",
   "pygments_lexer": "ipython3",
   "version": "3.9.6"
  }
 },
 "nbformat": 4,
 "nbformat_minor": 5
}
