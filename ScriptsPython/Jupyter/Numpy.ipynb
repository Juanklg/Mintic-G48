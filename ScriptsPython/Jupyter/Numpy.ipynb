{
 "cells": [
  {
   "cell_type": "markdown",
   "source": [
    "# Numpy\n",
    "\n",
    "**Numpy** es una libreria para la ciencia de los datos en Python. Proporciona un objeto **matriz** multidimensional de alto rendimiento y herramientas para trabajar con estas matrices. \n",
    "\n",
    "https://numpy.org/"
   ],
   "metadata": {
    "id": "JRm24OqYs1Qq"
   }
  },
  {
   "cell_type": "markdown",
   "source": [
    "# Matrices\n",
    "\n",
    "Una matriz numpy es una cuadrícula de valores, todos del mismo tipo, y está indexada por una tupla de enteros no negativos. El número de dimensiones es el rango de la matriz; la forma de una matriz es una tupla de números enteros que dan el tamaño de la matriz a lo largo de cada dimensión.\n",
    "\n",
    "Podemos inicializar matrices numpy desde listas de Python anidadas y acceder a elementos usando corchetes:"
   ],
   "metadata": {
    "id": "FW0HMLD9s1Qx"
   }
  },
  {
   "cell_type": "code",
   "execution_count": 2,
   "source": [
    "from numpy import random as r"
   ],
   "outputs": [],
   "metadata": {
    "executionInfo": {
     "elapsed": 216,
     "status": "ok",
     "timestamp": 1630300834960,
     "user": {
      "displayName": "Jose Ricardo Franco Villamil",
      "photoUrl": "https://lh3.googleusercontent.com/a-/AOh14GhF15ip2lJEhksQmmThpqFQ4QFS60Mf4pyOl4D5=s64",
      "userId": "13764144291668620802"
     },
     "user_tz": 300
    },
    "id": "C59y1N1Vs1Qz"
   }
  },
  {
   "cell_type": "code",
   "execution_count": 6,
   "source": [
    "print(r.choice(['Andres','Juan','Pedro', 'Mateo'], size= r.choice([1,2],p=[0.1,0.9]) , p=[0.5,0.2,0.2,0.1], replace=False))"
   ],
   "outputs": [
    {
     "output_type": "stream",
     "name": "stdout",
     "text": [
      "['Juan' 'Andres']\n"
     ]
    }
   ],
   "metadata": {
    "colab": {
     "base_uri": "https://localhost:8080/"
    },
    "executionInfo": {
     "elapsed": 207,
     "status": "ok",
     "timestamp": 1630300845515,
     "user": {
      "displayName": "Jose Ricardo Franco Villamil",
      "photoUrl": "https://lh3.googleusercontent.com/a-/AOh14GhF15ip2lJEhksQmmThpqFQ4QFS60Mf4pyOl4D5=s64",
      "userId": "13764144291668620802"
     },
     "user_tz": 300
    },
    "id": "xYMoipics1Q1",
    "outputId": "6c9b1f22-8b03-4bb0-b9de-159eae24c97a"
   }
  },
  {
   "cell_type": "code",
   "execution_count": 8,
   "source": [
    "import numpy as np\r\n",
    "\r\n",
    "a = np.array([34, 25, 7])   # Crear una matriz de rango 1"
   ],
   "outputs": [],
   "metadata": {
    "executionInfo": {
     "elapsed": 205,
     "status": "ok",
     "timestamp": 1630300901182,
     "user": {
      "displayName": "Jose Ricardo Franco Villamil",
      "photoUrl": "https://lh3.googleusercontent.com/a-/AOh14GhF15ip2lJEhksQmmThpqFQ4QFS60Mf4pyOl4D5=s64",
      "userId": "13764144291668620802"
     },
     "user_tz": 300
    },
    "id": "AssZl8WQs1Q3"
   }
  },
  {
   "cell_type": "code",
   "execution_count": null,
   "source": [
    "print(type(a))            # Prints \"<class 'numpy.ndarray'>\""
   ],
   "outputs": [
    {
     "output_type": "stream",
     "name": "stdout",
     "text": [
      "<class 'numpy.ndarray'>\n"
     ]
    }
   ],
   "metadata": {
    "id": "xaUU1Qavs1Q4",
    "outputId": "527b2df7-e7d5-4590-e01c-3788bb13b6d1"
   }
  },
  {
   "cell_type": "code",
   "execution_count": null,
   "source": [
    "print(a.shape)            # Prints \"(3,)\""
   ],
   "outputs": [
    {
     "output_type": "stream",
     "name": "stdout",
     "text": [
      "(3,)\n"
     ]
    }
   ],
   "metadata": {
    "id": "7ORUxbO4s1Q5",
    "outputId": "f81db779-d5d9-4176-a800-84a862bf31d9"
   }
  },
  {
   "cell_type": "code",
   "execution_count": 10,
   "source": [
    "print(a[0], a[1], a[2])   # Prints \"1 2 3\""
   ],
   "outputs": [
    {
     "output_type": "stream",
     "name": "stdout",
     "text": [
      "34 25 7\n"
     ]
    }
   ],
   "metadata": {
    "colab": {
     "base_uri": "https://localhost:8080/"
    },
    "executionInfo": {
     "elapsed": 206,
     "status": "ok",
     "timestamp": 1630300929619,
     "user": {
      "displayName": "Jose Ricardo Franco Villamil",
      "photoUrl": "https://lh3.googleusercontent.com/a-/AOh14GhF15ip2lJEhksQmmThpqFQ4QFS60Mf4pyOl4D5=s64",
      "userId": "13764144291668620802"
     },
     "user_tz": 300
    },
    "id": "VTcQQ2RPs1Q7",
    "outputId": "8353ce33-e379-4c06-9d3f-f0439c1d4b08"
   }
  },
  {
   "cell_type": "code",
   "execution_count": 11,
   "source": [
    "a[0] = 5                  # Cambiar un elemento de la matriz"
   ],
   "outputs": [],
   "metadata": {
    "executionInfo": {
     "elapsed": 209,
     "status": "ok",
     "timestamp": 1630300951834,
     "user": {
      "displayName": "Jose Ricardo Franco Villamil",
      "photoUrl": "https://lh3.googleusercontent.com/a-/AOh14GhF15ip2lJEhksQmmThpqFQ4QFS60Mf4pyOl4D5=s64",
      "userId": "13764144291668620802"
     },
     "user_tz": 300
    },
    "id": "WDvX479Gs1Q8"
   }
  },
  {
   "cell_type": "code",
   "execution_count": 12,
   "source": [
    "print(a)                  # Prints \"[5, 2, 3]\""
   ],
   "outputs": [
    {
     "output_type": "stream",
     "name": "stdout",
     "text": [
      "[ 5 25  7]\n"
     ]
    }
   ],
   "metadata": {
    "colab": {
     "base_uri": "https://localhost:8080/"
    },
    "executionInfo": {
     "elapsed": 213,
     "status": "ok",
     "timestamp": 1630300954856,
     "user": {
      "displayName": "Jose Ricardo Franco Villamil",
      "photoUrl": "https://lh3.googleusercontent.com/a-/AOh14GhF15ip2lJEhksQmmThpqFQ4QFS60Mf4pyOl4D5=s64",
      "userId": "13764144291668620802"
     },
     "user_tz": 300
    },
    "id": "Sehd_U1Ys1RB",
    "outputId": "59a8ef0c-2890-4119-f7c8-9f6ad1705062"
   }
  },
  {
   "cell_type": "code",
   "execution_count": null,
   "source": [
    "b = np.array([[1,2,3],[4,5,6]])    # Crear una matriz de rango 2"
   ],
   "outputs": [],
   "metadata": {
    "id": "DUbxs6G4s1RB"
   }
  },
  {
   "cell_type": "code",
   "execution_count": null,
   "source": [
    "print(b.shape)                     # Prints \"(2, 3)\""
   ],
   "outputs": [
    {
     "output_type": "stream",
     "name": "stdout",
     "text": [
      "(2, 3)\n"
     ]
    }
   ],
   "metadata": {
    "id": "yd67GO33s1RC",
    "outputId": "59992195-3dbb-4a96-8c74-d3e8aa40350c"
   }
  },
  {
   "cell_type": "code",
   "execution_count": null,
   "source": [
    "print(b[0, 0], b[0, 1], b[1, 0])   # Prints \"1 2 4\""
   ],
   "outputs": [
    {
     "output_type": "stream",
     "name": "stdout",
     "text": [
      "1 2 4\n"
     ]
    }
   ],
   "metadata": {
    "id": "W1_tbO3Ns1RD",
    "outputId": "91f7f171-c8ee-40c5-ce26-69b8144dff94",
    "scrolled": true
   }
  },
  {
   "cell_type": "markdown",
   "source": [
    "Numpy también proporciona muchas funciones para crear matrices:"
   ],
   "metadata": {
    "id": "kUrXqChWs1RE"
   }
  },
  {
   "cell_type": "code",
   "execution_count": null,
   "source": [
    "import numpy as np\n",
    "\n",
    "matriz = np.zeros((3,3))   # Crear una matriz de todos los ceros\n",
    "print(matriz)              # Prints \"[[ 0.  0.]\n",
    "                      #          [ 0.  0.]]\""
   ],
   "outputs": [
    {
     "output_type": "stream",
     "name": "stdout",
     "text": [
      "[[0. 0. 0.]\n",
      " [0. 0. 0.]\n",
      " [0. 0. 0.]]\n"
     ]
    }
   ],
   "metadata": {
    "id": "6cOI002Ks1RE",
    "outputId": "c8d4655a-c1aa-4023-9372-f85ed7d13ad1"
   }
  },
  {
   "cell_type": "code",
   "execution_count": null,
   "source": [
    "b = np.ones((1,2))    # Crear un conjunto de todos ellos\n",
    "print(b)              # Prints \"[[ 1.  1.]]\""
   ],
   "outputs": [
    {
     "output_type": "stream",
     "name": "stdout",
     "text": [
      "[[1. 1.]]\n"
     ]
    }
   ],
   "metadata": {
    "id": "yErWztrjs1RF",
    "outputId": "e88e28a7-0890-45c4-e7a6-a8f5e26fab09"
   }
  },
  {
   "cell_type": "code",
   "execution_count": null,
   "source": [
    "c = np.full((2,2), 7)  # Crear una matriz constante\n",
    "print(c)               # Prints \"[[ 7.  7.]\n",
    "                       #          [ 7.  7.]]\""
   ],
   "outputs": [
    {
     "output_type": "stream",
     "name": "stdout",
     "text": [
      "[[7 7]\n",
      " [7 7]]\n"
     ]
    }
   ],
   "metadata": {
    "id": "ggkwf_x_s1RG",
    "outputId": "d304119b-5ddc-4fd1-ed20-73912b34051e"
   }
  },
  {
   "cell_type": "code",
   "execution_count": null,
   "source": [
    "d = np.eye(2)         # Crear una matriz de identidad 2x2\n",
    "print(d)              # Prints \"[[ 1.  0.]\n",
    "                      #          [ 0.  1.]]\""
   ],
   "outputs": [
    {
     "output_type": "stream",
     "name": "stdout",
     "text": [
      "[[1. 0.]\n",
      " [0. 1.]]\n"
     ]
    }
   ],
   "metadata": {
    "id": "lKMXptxNs1RH",
    "outputId": "6ef463f0-6f07-4cb2-9e06-3ad412f245c2"
   }
  },
  {
   "cell_type": "code",
   "execution_count": null,
   "source": [
    "e = np.random.random((2,2))  # Crear una matriz llena de valores aleatorios\n",
    "print(e)                     # Podría imprimir \"[[ 0.91940167  0.08143941]\n",
    "                             #               [ 0.68744134  0.87236687]]\""
   ],
   "outputs": [
    {
     "output_type": "stream",
     "name": "stdout",
     "text": [
      "[[0.00175892 0.12706911]\n",
      " [0.03101381 0.71757546]]\n"
     ]
    }
   ],
   "metadata": {
    "id": "Ql5ibbe0s1RH",
    "outputId": "63460aa4-eae3-4d8f-bd02-4dfe72a46e55"
   }
  },
  {
   "cell_type": "markdown",
   "source": [
    "Puede leer sobre otros métodos de creación de matrices en la documentación de Numpy\n",
    "\n",
    "https://numpy.org/doc/stable/user/basics.creation.html#arrays-creation"
   ],
   "metadata": {
    "id": "pj1IWs0es1RI"
   }
  },
  {
   "cell_type": "markdown",
   "source": [
    "# Indexación de matrices\n",
    "\n",
    "Numpy ofrece varias formas de indexar en matrices.\n",
    "\n",
    "# Rebanar\n",
    "\n",
    "Similar a las listas de Python, las matrices numpy se pueden cortar. Dado que las matrices pueden ser multidimensionales, debe especificar un segmento para cada dimensión de la matriz:"
   ],
   "metadata": {
    "id": "LkRdEENJs1RI"
   }
  },
  {
   "cell_type": "code",
   "execution_count": null,
   "source": [
    "import numpy as np\n",
    "\n",
    "# Crear la siguiente matriz de rango 2 con forma (3, 4)\n",
    "# [[ 1  2  3]\n",
    "#  [ 5  6  7]\n",
    "#  [ 9 10 11 ]]\n",
    "a = np.array([[1,2,3], [5,6,7], [9,10,11]])"
   ],
   "outputs": [],
   "metadata": {
    "id": "kLUUkhA5s1RJ"
   }
  },
  {
   "cell_type": "code",
   "execution_count": null,
   "source": [
    "# Usar el rebanado para sacar el subconjunto que consiste en las 2 primeras filas\n",
    "# y las columnas 1 y 2; b es el siguiente conjunto de forma (2, 2):\n",
    "# [[2 3]\n",
    "#  [6 7]]\n",
    "b = a[:2, 1:3]\n",
    "print(b)"
   ],
   "outputs": [
    {
     "output_type": "stream",
     "name": "stdout",
     "text": [
      "[[2 3]\n",
      " [6 7]]\n"
     ]
    }
   ],
   "metadata": {
    "id": "DbDrTAies1RJ",
    "outputId": "3d5a38fa-8019-4317-9d8d-885d9350eb6c"
   }
  },
  {
   "cell_type": "code",
   "execution_count": null,
   "source": [
    "print(np.fliplr(a))"
   ],
   "outputs": [
    {
     "output_type": "stream",
     "name": "stdout",
     "text": [
      "[[ 3  2  1]\n",
      " [ 7  6  5]\n",
      " [11 10  9]]\n"
     ]
    }
   ],
   "metadata": {
    "id": "Da78J8qGs1RJ",
    "outputId": "efff26ad-ec63-4ef1-af9c-ec5fc868d071"
   }
  },
  {
   "cell_type": "code",
   "execution_count": null,
   "source": [
    "# Una rebanada de una matriz es una vista en los mismos datos, por lo que modificarla\n",
    "# modificará la matriz original.\n",
    "print(a[0, 1])   # Prints \"2\""
   ],
   "outputs": [
    {
     "output_type": "stream",
     "name": "stdout",
     "text": [
      "2\n"
     ]
    }
   ],
   "metadata": {
    "id": "djhlUwAZs1RK",
    "outputId": "e424b029-3902-4928-b686-755b0a261072"
   }
  },
  {
   "cell_type": "code",
   "execution_count": null,
   "source": [
    "b[0, 0] = 77     # b[0, 0] es la misma pieza de datos que a[0, 1]"
   ],
   "outputs": [],
   "metadata": {
    "id": "z-Tl14C9s1RK"
   }
  },
  {
   "cell_type": "code",
   "execution_count": null,
   "source": [
    "print(a[0, 1])   # Prints \"77\""
   ],
   "outputs": [
    {
     "output_type": "stream",
     "name": "stdout",
     "text": [
      "77\n"
     ]
    }
   ],
   "metadata": {
    "id": "WHbTKHGbs1RK",
    "outputId": "d685653c-0c09-4c96-e12c-c55fbf64560d"
   }
  },
  {
   "cell_type": "markdown",
   "source": [
    "También puede mezclar la indexación de enteros con la indexación de sectores. Sin embargo, al hacerlo, se obtendrá una matriz de rango más bajo que la matriz original."
   ],
   "metadata": {
    "id": "PwFmV5y0s1RL"
   }
  },
  {
   "cell_type": "code",
   "execution_count": null,
   "source": [
    "import numpy as np\n",
    "\n",
    "# Crear la siguiente matriz de rango 2 con forma (3, 4)\n",
    "# [[ 1  2  3  4]\n",
    "#  [ 5  6  7  8]\n",
    "#  [ 9 10 11 12]]\n",
    "a = np.array([[1,2,3,4], [5,6,7,8], [9,10,11,12]])"
   ],
   "outputs": [],
   "metadata": {
    "id": "IEMtXbdbs1RL"
   }
  },
  {
   "cell_type": "code",
   "execution_count": null,
   "source": [
    "# Dos formas de acceder a los datos de la fila del medio de la matriz.\n",
    "# Mezclando la indexación de enteros con rebanadas se obtiene una matriz de rango inferior,\n",
    "# mientras que usando sólo rebanadas se obtiene un conjunto del mismo rango que el\n",
    "# La matriz original:\n",
    "row_r1 = a[1, :]    # Rank 1 view of the second row of a\n",
    "row_r2 = a[1:2, :]  # Rank 2 view of the second row of a"
   ],
   "outputs": [],
   "metadata": {
    "id": "BjtAnI8qs1RL"
   }
  },
  {
   "cell_type": "code",
   "execution_count": null,
   "source": [
    "print(row_r1, row_r1.shape)  # Prints \"[5 6 7 8] (4,)\"\n",
    "print(row_r2, row_r2.shape)  # Prints \"[[5 6 7 8]] (1, 4)\""
   ],
   "outputs": [
    {
     "output_type": "stream",
     "name": "stdout",
     "text": [
      "[5 6 7 8] (4,)\n",
      "[[5 6 7 8]] (1, 4)\n"
     ]
    }
   ],
   "metadata": {
    "id": "u7Cu12Dts1RL",
    "outputId": "4f93a784-db10-4d99-c21e-6566529c6ac7"
   }
  },
  {
   "cell_type": "code",
   "execution_count": null,
   "source": [
    "# Podemos hacer la misma distinción al acceder a las columnas de una matriz:\n",
    "col_r1 = a[:, 1]\n",
    "col_r2 = a[:, 1:2]\n",
    "print(col_r1, col_r1.shape)  # Prints \"[ 2  6 10] (3,)\"\n",
    "print(col_r2, col_r2.shape)  # Prints \"[[ 2]\n",
    "                             #          [ 6]\n",
    "                             #          [10]] (3, 1)\""
   ],
   "outputs": [
    {
     "output_type": "stream",
     "name": "stdout",
     "text": [
      "[ 2  6 10] (3,)\n",
      "[[ 2]\n",
      " [ 6]\n",
      " [10]] (3, 1)\n"
     ]
    }
   ],
   "metadata": {
    "id": "PRwmUyoYs1RM",
    "outputId": "1eaeada2-643e-4f8b-a1c9-8b06f86057a9"
   }
  },
  {
   "cell_type": "markdown",
   "source": [
    "# Indexación de matrices de enteros: \n",
    "\n",
    "Cuando indexa matrices de números utilizando la división, la vista de matriz resultante siempre será una submatriz de la matriz original. Por el contrario, la indexación de matrices de enteros le permite construir matrices arbitrarias utilizando los datos de otra matriz. Aquí hay un ejemplo:"
   ],
   "metadata": {
    "id": "CrFyuEC0s1RM"
   }
  },
  {
   "cell_type": "code",
   "execution_count": null,
   "source": [
    "import numpy as np\n",
    "\n",
    "a = np.array([[1,2], [3, 4], [5, 6]])"
   ],
   "outputs": [],
   "metadata": {
    "id": "aVIq_u-7s1RN"
   }
  },
  {
   "cell_type": "code",
   "execution_count": null,
   "source": [
    "# Un ejemplo de indexación de arreglos enteros.\n",
    "# La matriz devuelta tendrá forma (3,2) y\n",
    "print(a.shape)\n",
    "print(a[[0, 1, 2], [0, 1, 0]])  # Prints \"[1 4 5]\""
   ],
   "outputs": [
    {
     "output_type": "stream",
     "name": "stdout",
     "text": [
      "(3, 2)\n",
      "[1 4 5]\n"
     ]
    }
   ],
   "metadata": {
    "id": "ZVyCqVEPs1RO",
    "outputId": "143b69ce-05f6-406b-9a44-cfd80196b8f3"
   }
  },
  {
   "cell_type": "code",
   "execution_count": null,
   "source": [
    "# El ejemplo anterior de indexación de arreglos enteros es equivalente a esto:\n",
    "print(np.array([a[0, 0], a[1, 1], a[2, 0]]))  # Prints \"[1 4 5]\""
   ],
   "outputs": [
    {
     "output_type": "stream",
     "name": "stdout",
     "text": [
      "[1 4 5]\n"
     ]
    }
   ],
   "metadata": {
    "id": "jVPANPYxs1RO",
    "outputId": "9577b179-b53b-4ecc-d15e-639e1518d2e5"
   }
  },
  {
   "cell_type": "code",
   "execution_count": null,
   "source": [
    "# Cuando se usa la indexación de arreglos enteros, se puede reutilizar el mismo\n",
    "# elemento de la matriz de la fuente:\n",
    "print(a[[0, 0], [1, 1]])  # Prints \"[2 2]\""
   ],
   "outputs": [
    {
     "output_type": "stream",
     "name": "stdout",
     "text": [
      "[2 2]\n"
     ]
    }
   ],
   "metadata": {
    "id": "8YQETweYs1RO",
    "outputId": "9d1c475c-0962-4eba-d27a-3019b947df51"
   }
  },
  {
   "cell_type": "code",
   "execution_count": null,
   "source": [
    "# Equivalente al ejemplo anterior de indexación de arreglos enteros\n",
    "print(np.array([a[0, 1], a[0, 1]]))  # Prints \"[2 2]\""
   ],
   "outputs": [
    {
     "output_type": "stream",
     "name": "stdout",
     "text": [
      "[2 2]\n"
     ]
    }
   ],
   "metadata": {
    "id": "OdRe0hsYs1RP",
    "outputId": "1d8373e4-1d66-471c-e638-40e3e2565655"
   }
  },
  {
   "cell_type": "markdown",
   "source": [
    "Un truco útil con la indexación de matrices enteras es seleccionar o mutar un elemento de cada fila de una matriz:"
   ],
   "metadata": {
    "id": "EnxkClfks1RP"
   }
  },
  {
   "cell_type": "code",
   "execution_count": null,
   "source": [
    "import numpy as np\n",
    "\n",
    "# Crear una nueva matriz de la cual seleccionaremos elementos\n",
    "a = np.array([[1,2,3], [4,5,6], [7,8,9], [10, 11, 12]])\n",
    "\n",
    "print(a)  # prints \"array([[ 1,  2,  3],\n",
    "          #                [ 4,  5,  6],\n",
    "          #                [ 7,  8,  9],\n",
    "          #                [10, 11, 12]])\""
   ],
   "outputs": [
    {
     "output_type": "stream",
     "name": "stdout",
     "text": [
      "[[ 1  2  3]\n",
      " [ 4  5  6]\n",
      " [ 7  8  9]\n",
      " [10 11 12]]\n"
     ]
    }
   ],
   "metadata": {
    "id": "BPVUtWS4s1RP",
    "outputId": "8c996df0-b50f-4062-b9ad-0d96dad7f541"
   }
  },
  {
   "cell_type": "code",
   "execution_count": null,
   "source": [
    "# Crear una serie de índices\n",
    "b = np.array([0, 2, 0, 1])\n",
    "\n",
    "# Selecciona un elemento de cada fila de a usando los índices de b\n",
    "print(a[np.arange(4), b])  # Prints \"[ 1  6  7 11]\""
   ],
   "outputs": [
    {
     "output_type": "stream",
     "name": "stdout",
     "text": [
      "[11 16 17 21]\n"
     ]
    }
   ],
   "metadata": {
    "id": "flBM5cz0s1RP",
    "outputId": "f1e95031-7a3c-4877-9abd-76a96b74036d"
   }
  },
  {
   "cell_type": "code",
   "execution_count": null,
   "source": [
    "# Muta un elemento de cada fila de a usando los índices de b\n",
    "a[np.arange(4), b] += 10\n",
    "\n",
    "print(a)  # prints \"array([[11,  2,  3],\n",
    "          #                [ 4,  5, 16],\n",
    "          #                [17,  8,  9],\n",
    "          #                [10, 21, 12]])"
   ],
   "outputs": [
    {
     "output_type": "stream",
     "name": "stdout",
     "text": [
      "[[21  2  3]\n",
      " [ 4  5 26]\n",
      " [27  8  9]\n",
      " [10 31 12]]\n"
     ]
    }
   ],
   "metadata": {
    "id": "OWuhT9gFs1RQ",
    "outputId": "259b3b99-d9fc-4d4e-c242-f26b20af908b"
   }
  },
  {
   "cell_type": "markdown",
   "source": [
    "# Indexación de matriz booleana: \n",
    "\n",
    "La indexación de matriz booleana le permite seleccionar elementos arbitrarios de una matriz. Con frecuencia, este tipo de indexación se utiliza para seleccionar los elementos de una matriz que satisfacen alguna condición. Aquí hay un ejemplo:"
   ],
   "metadata": {
    "id": "Qyv24_qos1RQ"
   }
  },
  {
   "cell_type": "code",
   "execution_count": null,
   "source": [
    "import numpy as np\n",
    "\n",
    "a = np.array([[1,2], [3, 4], [5, 6]])"
   ],
   "outputs": [],
   "metadata": {
    "id": "QZXfDQq3s1RQ"
   }
  },
  {
   "cell_type": "code",
   "execution_count": null,
   "source": [
    "bool_idx = (a > 2)  # Encuentra los elementos de a que son más grandes que 2; \n",
    "                    # esto devuelve un conjunto numérico de Booleans de la misma \n",
    "                    # forma que a, donde cada ranura de bool_idx dice\n",
    "                    # si ese elemento de a es > 2."
   ],
   "outputs": [],
   "metadata": {
    "id": "qT_HPUJGs1RQ"
   }
  },
  {
   "cell_type": "code",
   "execution_count": null,
   "source": [
    "print(bool_idx)      # Prints \"[[False False]\n",
    "                     #          [ True  True]\n",
    "                     #          [ True  True]]\""
   ],
   "outputs": [
    {
     "output_type": "stream",
     "name": "stdout",
     "text": [
      "[[False False]\n",
      " [ True  True]\n",
      " [ True  True]]\n"
     ]
    }
   ],
   "metadata": {
    "id": "CWJUWA_Rs1RQ",
    "outputId": "b069ec9e-2652-479c-fa5e-71ea8a1851ca"
   }
  },
  {
   "cell_type": "code",
   "execution_count": null,
   "source": [
    "# Usamos la indexación de arreglos booleanos para construir un arreglo de rango 1\n",
    "# que consiste en los elementos de un correspondiente a los valores Verdaderos\n",
    "# de bool_idx\n",
    "\n",
    "print(a[bool_idx])  # Prints \"[3 4 5 6]\""
   ],
   "outputs": [
    {
     "output_type": "stream",
     "name": "stdout",
     "text": [
      "[3 4 5 6]\n"
     ]
    }
   ],
   "metadata": {
    "id": "8hOoZSdxs1RR",
    "outputId": "54b2b96c-5852-4e02-9009-757c6f8f1817"
   }
  },
  {
   "cell_type": "code",
   "execution_count": null,
   "source": [
    "# Podemos hacer todo lo anterior en una sola declaración concisa:\n",
    "print(a[a > 2])     # Prints \"[3 4 5 6]\""
   ],
   "outputs": [
    {
     "output_type": "stream",
     "name": "stdout",
     "text": [
      "[3 4 5 6]\n"
     ]
    }
   ],
   "metadata": {
    "id": "FeWTyOfms1RR",
    "outputId": "bedf7fea-1b23-41f3-e30b-ce90e913abfd"
   }
  },
  {
   "cell_type": "markdown",
   "source": [
    "Por brevedad, hemos omitido muchos detalles sobre la indexación de matrices numpy; si quieres saber más debes leer la documentación .  \n",
    "\n",
    "https://numpy.org/doc/stable/reference/arrays.indexing.html"
   ],
   "metadata": {
    "id": "eqLnNE0Es1RR"
   }
  },
  {
   "cell_type": "markdown",
   "source": [
    "# Tipos de datos\n",
    "\n",
    "Cada matriz numpy es una cuadrícula de elementos del mismo tipo. Numpy proporciona un gran conjunto de tipos de datos numéricos que puede utilizar para construir matrices. Numpy intenta adivinar un tipo de datos cuando crea una matriz, pero las funciones que construyen matrices generalmente también incluyen un argumento opcional para especificar explícitamente el tipo de datos. Aquí hay un ejemplo:"
   ],
   "metadata": {
    "id": "ykfS1lZ4s1RR"
   }
  },
  {
   "cell_type": "code",
   "execution_count": null,
   "source": [
    "import numpy as np\n",
    "\n",
    "x = np.array([1, 2])   # Dejar que numpy elija el tipo de datos\n",
    "print(x.dtype)         # Prints \"int64\""
   ],
   "outputs": [
    {
     "output_type": "stream",
     "name": "stdout",
     "text": [
      "int32\n"
     ]
    }
   ],
   "metadata": {
    "id": "RIHMQLNys1RS",
    "outputId": "ad5377e3-348e-43c3-c5f7-a832ff925a44"
   }
  },
  {
   "cell_type": "code",
   "execution_count": null,
   "source": [
    "x = np.array([1.0, 2.0])   # Dejar que numpy elija el tipo de datos\n",
    "print(x.dtype)             # Prints \"float64\""
   ],
   "outputs": [
    {
     "output_type": "stream",
     "name": "stdout",
     "text": [
      "float64\n"
     ]
    }
   ],
   "metadata": {
    "id": "a4kMdqDKs1RS",
    "outputId": "9b49403f-3b1f-47c4-faeb-ccbecea2d914"
   }
  },
  {
   "cell_type": "code",
   "execution_count": null,
   "source": [
    "x = np.array([1, 2], dtype=np.int64)   # Forzar un tipo de datos en particular\n",
    "print(x.dtype)                         # Prints \"int64\""
   ],
   "outputs": [
    {
     "output_type": "stream",
     "name": "stdout",
     "text": [
      "int64\n"
     ]
    }
   ],
   "metadata": {
    "id": "ZegKMi7Vs1RS",
    "outputId": "4114b9c9-62de-4081-fdd5-c2a88d378132"
   }
  },
  {
   "cell_type": "markdown",
   "source": [
    "Puede leer todo sobre numerosos tipos de datos en la documentación .\n",
    "\n",
    "https://numpy.org/doc/stable/reference/arrays.dtypes.html"
   ],
   "metadata": {
    "id": "Zh3u9cgLs1RS"
   }
  },
  {
   "cell_type": "markdown",
   "source": [
    "# Matemáticas de matriz\n",
    "\n",
    "Las funciones matemáticas básicas operan por elementos en matrices y están disponibles como sobrecargas de operador y como funciones en el módulo numpy:"
   ],
   "metadata": {
    "id": "nIM-ftVas1RT"
   }
  },
  {
   "cell_type": "code",
   "execution_count": null,
   "source": [
    "import numpy as np\n",
    "\n",
    "x = np.array([[1,2],[3,4]], dtype=np.float64)\n",
    "y = np.array([[5,6],[7,8]], dtype=np.float64)"
   ],
   "outputs": [],
   "metadata": {
    "id": "T_GdjV47s1RT"
   }
  },
  {
   "cell_type": "code",
   "execution_count": null,
   "source": [
    "# Suma de elementos; ambos producen la matriz\n",
    "# [[ 6.0  8.0]\n",
    "#  [10.0 12.0]]\n",
    "print(x + y)\n",
    "print(np.add(x, y))"
   ],
   "outputs": [
    {
     "output_type": "stream",
     "name": "stdout",
     "text": [
      "[[ 6.  8.]\n",
      " [10. 12.]]\n",
      "[[ 6.  8.]\n",
      " [10. 12.]]\n"
     ]
    }
   ],
   "metadata": {
    "id": "_8lBjiw6s1RT",
    "outputId": "2d60e79c-4fee-498b-c710-edc0789e845e"
   }
  },
  {
   "cell_type": "code",
   "execution_count": null,
   "source": [
    "# Diferencia de elementos (resta); ambos producen la matriz\n",
    "# [[-4.0 -4.0]\n",
    "#  [-4.0 -4.0]]\n",
    "print(x - y)\n",
    "print(np.subtract(x, y))"
   ],
   "outputs": [
    {
     "output_type": "stream",
     "name": "stdout",
     "text": [
      "[[-4. -4.]\n",
      " [-4. -4.]]\n",
      "[[-4. -4.]\n",
      " [-4. -4.]]\n"
     ]
    }
   ],
   "metadata": {
    "id": "6MZsIGOJs1RT",
    "outputId": "fa4cf978-458f-439f-f4dc-ffeb66fb6aaa"
   }
  },
  {
   "cell_type": "code",
   "execution_count": null,
   "source": [
    "# Producto de elementos; ambos producen la matriz\n",
    "# [[ 5.0 12.0]\n",
    "#  [21.0 32.0]]\n",
    "print(x * y)\n",
    "print(np.multiply(x, y))"
   ],
   "outputs": [
    {
     "output_type": "stream",
     "name": "stdout",
     "text": [
      "[[ 5. 12.]\n",
      " [21. 32.]]\n",
      "[[ 5. 12.]\n",
      " [21. 32.]]\n"
     ]
    }
   ],
   "metadata": {
    "id": "Q33Vkkkps1RT",
    "outputId": "9f1c0164-7c85-416f-8299-b764ec34c747"
   }
  },
  {
   "cell_type": "code",
   "execution_count": null,
   "source": [
    "# División de elemetos; ambos producen la matriz\n",
    "# [[ 0.2         0.33333333]\n",
    "#  [ 0.42857143  0.5       ]]\n",
    "print(x / y)\n",
    "print(np.divide(x, y))"
   ],
   "outputs": [
    {
     "output_type": "stream",
     "name": "stdout",
     "text": [
      "[[0.2        0.33333333]\n",
      " [0.42857143 0.5       ]]\n",
      "[[0.2        0.33333333]\n",
      " [0.42857143 0.5       ]]\n"
     ]
    }
   ],
   "metadata": {
    "id": "RZEm4Etms1RU",
    "outputId": "17213d0f-905d-44d1-b3d6-65b64d1e394c"
   }
  },
  {
   "cell_type": "code",
   "execution_count": null,
   "source": [
    "# Raíz cuadrada de elemtos; produce la matriz\n",
    "# [[ 1.          1.41421356]\n",
    "#  [ 1.73205081  2.        ]]\n",
    "print(np.sqrt(x))"
   ],
   "outputs": [
    {
     "output_type": "stream",
     "name": "stdout",
     "text": [
      "[[1.         1.41421356]\n",
      " [1.73205081 2.        ]]\n"
     ]
    }
   ],
   "metadata": {
    "id": "a5iaWcOos1RU",
    "outputId": "1b306e18-1e49-4950-bffa-1e062f03a6f5"
   }
  },
  {
   "cell_type": "markdown",
   "source": [
    "Tenga en cuenta que **es una multiplicación por elementos, no una multiplicación de matrices**. En cambio, usamos la dotfunción para calcular productos internos de vectores, para multiplicar un vector por una matriz y para multiplicar matrices. dot está disponible como función en el módulo numpy y como método de instancia de objetos de matriz:"
   ],
   "metadata": {
    "id": "zHTztB62s1RU"
   }
  },
  {
   "cell_type": "code",
   "execution_count": null,
   "source": [
    "import numpy as np\n",
    "\n",
    "x = np.array([[1,2],[3,4]])\n",
    "y = np.array([[5,6],[7,8]])"
   ],
   "outputs": [],
   "metadata": {
    "id": "GdOC8LKHs1RV"
   }
  },
  {
   "cell_type": "code",
   "execution_count": null,
   "source": [
    "v = np.array([9,10])\n",
    "w = np.array([11, 12])"
   ],
   "outputs": [],
   "metadata": {
    "id": "tGOFlbZvs1RV"
   }
  },
  {
   "cell_type": "code",
   "execution_count": null,
   "source": [
    "# Producto interno de los vectores; ambos producen 219\n",
    "print(v.dot(w))\n",
    "print(np.dot(v, w))"
   ],
   "outputs": [
    {
     "output_type": "stream",
     "name": "stdout",
     "text": [
      "219\n",
      "219\n"
     ]
    }
   ],
   "metadata": {
    "id": "HgyCQ_kTs1RV",
    "outputId": "fb88b301-8cb3-438a-c809-21a21d10f89d"
   }
  },
  {
   "cell_type": "code",
   "execution_count": null,
   "source": [
    "# Matriz / producto vectorial; ambos producen la matriz de rango 1 [29 67]\n",
    "print(x.dot(v))\n",
    "print(np.dot(x, v))"
   ],
   "outputs": [
    {
     "output_type": "stream",
     "name": "stdout",
     "text": [
      "[29 67]\n",
      "[29 67]\n"
     ]
    }
   ],
   "metadata": {
    "id": "8ZSrTOgqs1RV",
    "outputId": "4b2cf4d4-9d32-4cfe-c379-3e65d0969f1a"
   }
  },
  {
   "cell_type": "code",
   "execution_count": null,
   "source": [
    "# Matriz / producto de la matriz; ambos producen la matriz de rango 2\n",
    "# [[19 22]\n",
    "#  [43 50]]\n",
    "print(x.dot(y))\n",
    "print(np.dot(x, y))"
   ],
   "outputs": [
    {
     "output_type": "stream",
     "name": "stdout",
     "text": [
      "[[19 22]\n",
      " [43 50]]\n",
      "[[19 22]\n",
      " [43 50]]\n"
     ]
    }
   ],
   "metadata": {
    "id": "VUhzxNb8s1RW",
    "outputId": "41a5c68a-cadd-4ae0-f566-8a8a2810cb84"
   }
  },
  {
   "cell_type": "markdown",
   "source": [
    "Numpy proporciona muchas funciones útiles para realizar cálculos en matrices; uno de los más útiles es sum:"
   ],
   "metadata": {
    "id": "_R-W00_Es1RW"
   }
  },
  {
   "cell_type": "code",
   "execution_count": null,
   "source": [
    "import numpy as np\n",
    "\n",
    "x = np.array([[1,2],[3,4]])"
   ],
   "outputs": [],
   "metadata": {
    "id": "sQGNbFPMs1RW"
   }
  },
  {
   "cell_type": "code",
   "execution_count": null,
   "source": [
    "print(np.sum(x))  # Calcular la suma de todos los elementos; imprime \"10\"\n",
    "print(np.sum(x, axis=0))  # Calcula la suma de cada columna; imprime \"[4 6]\"\n",
    "print(np.sum(x, axis=1))  # Calcula la suma de cada fila; imprime \"[3 7]\""
   ],
   "outputs": [
    {
     "output_type": "stream",
     "name": "stdout",
     "text": [
      "10\n",
      "[4 6]\n",
      "[3 7]\n"
     ]
    }
   ],
   "metadata": {
    "id": "jFXT9iDxs1RW",
    "outputId": "63b62d97-ee65-4215-82f4-5471fa6de110"
   }
  },
  {
   "cell_type": "markdown",
   "source": [
    "Puede encontrar la lista completa de funciones matemáticas proporcionadas por numpy en la documentación.\n",
    "\n",
    "https://numpy.org/doc/stable/reference/routines.math.html"
   ],
   "metadata": {
    "id": "O77olD-Fs1RW"
   }
  },
  {
   "cell_type": "markdown",
   "source": [
    "Además de calcular funciones matemáticas utilizando matrices, con frecuencia necesitamos remodelar o manipular datos en matrices. El ejemplo más simple de este tipo de operación es la transposición de una matriz; para transponer una matriz, simplemente use el **T** atributo de un objeto de matriz:"
   ],
   "metadata": {
    "id": "SzvGdybzs1RW"
   }
  },
  {
   "cell_type": "code",
   "execution_count": null,
   "source": [
    "import numpy as np\n",
    "\n",
    "x = np.array([[1,2], [3,4]])\n",
    "print(x)    # Prints \"[[1 2]\n",
    "            #          [3 4]]\"\n",
    "print(x.T)  # Prints \"[[1 3]\n",
    "            #          [2 4]]\""
   ],
   "outputs": [
    {
     "output_type": "stream",
     "name": "stdout",
     "text": [
      "[[1 2]\n",
      " [3 4]]\n",
      "[[1 3]\n",
      " [2 4]]\n"
     ]
    }
   ],
   "metadata": {
    "id": "CSvnDykEs1RX",
    "outputId": "e8025d3e-e837-4008-9795-c2f529139448"
   }
  },
  {
   "cell_type": "code",
   "execution_count": null,
   "source": [
    "# Note que tomar la transposición de una matriz de rango 1 no hace nada:\n",
    "v = np.array([1,2,3])\n",
    "print(v)    # Prints \"[1 2 3]\"\n",
    "print(v.T)  # Prints \"[1 2 3]\""
   ],
   "outputs": [
    {
     "output_type": "stream",
     "name": "stdout",
     "text": [
      "[1 2 3]\n",
      "[1 2 3]\n"
     ]
    }
   ],
   "metadata": {
    "id": "SzVucIf4s1RX",
    "outputId": "a6033453-2690-4fc2-f273-5217165761b9"
   }
  },
  {
   "cell_type": "markdown",
   "source": [
    "Numpy proporciona muchas más funciones para manipular matrices; puedes ver la lista completa en la documentación.\n",
    "https://numpy.org/doc/stable/reference/routines.array-manipulation.html"
   ],
   "metadata": {
    "id": "3vWoAgYjs1RX"
   }
  },
  {
   "cell_type": "markdown",
   "source": [
    "# Broadcasting\n",
    "\n",
    "El Broadcasting es un mecanismo poderoso que permite a numpy trabajar con matrices de diferentes formas al realizar operaciones aritméticas. Con frecuencia tenemos una matriz más pequeña y una matriz más grande, y queremos usar la matriz más pequeña varias veces para realizar alguna operación en la matriz más grande.\n",
    "\n",
    "Por ejemplo, suponga que queremos agregar un vector constante a cada fila de una matriz. Podríamos hacerlo así:"
   ],
   "metadata": {
    "id": "ZFq8CYA1s1RX"
   }
  },
  {
   "cell_type": "code",
   "execution_count": 1,
   "source": [
    "import numpy as np\n",
    "\n",
    "# Añadiremos el vector v a cada fila de la matriz x,\n",
    "# almacenando el resultado en la matriz y\n",
    "x = np.array([[1,2,3], [4,5,6], [7,8,9], [10, 11, 12]])\n",
    "v = np.array([1, 0, 1])\n",
    "y = np.empty_like(x)   # Crear una matriz vacía con la misma forma que x\n",
    "\n",
    "# Agrega el vector v a cada fila de la matriz x con un bucle explícito\n",
    "for i in range(4):\n",
    "    y[i, :] = x[i, :] + v"
   ],
   "outputs": [
    {
     "output_type": "error",
     "ename": "ModuleNotFoundError",
     "evalue": "No module named 'numpy'",
     "traceback": [
      "\u001b[1;31m---------------------------------------------------------------------------\u001b[0m",
      "\u001b[1;31mModuleNotFoundError\u001b[0m                       Traceback (most recent call last)",
      "\u001b[1;32mC:\\Users\\MAKEDR~1\\AppData\\Local\\Temp/ipykernel_11244/2737918328.py\u001b[0m in \u001b[0;36m<module>\u001b[1;34m\u001b[0m\n\u001b[1;32m----> 1\u001b[1;33m \u001b[1;32mimport\u001b[0m \u001b[0mnumpy\u001b[0m \u001b[1;32mas\u001b[0m \u001b[0mnp\u001b[0m\u001b[1;33m\u001b[0m\u001b[1;33m\u001b[0m\u001b[0m\n\u001b[0m\u001b[0;32m      2\u001b[0m \u001b[1;33m\u001b[0m\u001b[0m\n\u001b[0;32m      3\u001b[0m \u001b[1;31m# Añadiremos el vector v a cada fila de la matriz x,\u001b[0m\u001b[1;33m\u001b[0m\u001b[1;33m\u001b[0m\u001b[1;33m\u001b[0m\u001b[0m\n\u001b[0;32m      4\u001b[0m \u001b[1;31m# almacenando el resultado en la matriz y\u001b[0m\u001b[1;33m\u001b[0m\u001b[1;33m\u001b[0m\u001b[1;33m\u001b[0m\u001b[0m\n\u001b[0;32m      5\u001b[0m \u001b[0mx\u001b[0m \u001b[1;33m=\u001b[0m \u001b[0mnp\u001b[0m\u001b[1;33m.\u001b[0m\u001b[0marray\u001b[0m\u001b[1;33m(\u001b[0m\u001b[1;33m[\u001b[0m\u001b[1;33m[\u001b[0m\u001b[1;36m1\u001b[0m\u001b[1;33m,\u001b[0m\u001b[1;36m2\u001b[0m\u001b[1;33m,\u001b[0m\u001b[1;36m3\u001b[0m\u001b[1;33m]\u001b[0m\u001b[1;33m,\u001b[0m \u001b[1;33m[\u001b[0m\u001b[1;36m4\u001b[0m\u001b[1;33m,\u001b[0m\u001b[1;36m5\u001b[0m\u001b[1;33m,\u001b[0m\u001b[1;36m6\u001b[0m\u001b[1;33m]\u001b[0m\u001b[1;33m,\u001b[0m \u001b[1;33m[\u001b[0m\u001b[1;36m7\u001b[0m\u001b[1;33m,\u001b[0m\u001b[1;36m8\u001b[0m\u001b[1;33m,\u001b[0m\u001b[1;36m9\u001b[0m\u001b[1;33m]\u001b[0m\u001b[1;33m,\u001b[0m \u001b[1;33m[\u001b[0m\u001b[1;36m10\u001b[0m\u001b[1;33m,\u001b[0m \u001b[1;36m11\u001b[0m\u001b[1;33m,\u001b[0m \u001b[1;36m12\u001b[0m\u001b[1;33m]\u001b[0m\u001b[1;33m]\u001b[0m\u001b[1;33m)\u001b[0m\u001b[1;33m\u001b[0m\u001b[1;33m\u001b[0m\u001b[0m\n",
      "\u001b[1;31mModuleNotFoundError\u001b[0m: No module named 'numpy'"
     ]
    }
   ],
   "metadata": {
    "id": "3kH2hyd8s1RX"
   }
  },
  {
   "cell_type": "code",
   "execution_count": null,
   "source": [
    "# Ahora y es lo siguiente\n",
    "# [[ 2  2  4]\n",
    "#  [ 5  5  7]\n",
    "#  [ 8  8 10]\n",
    "#  [11 11 13]]\n",
    "print(y)"
   ],
   "outputs": [
    {
     "output_type": "stream",
     "name": "stdout",
     "text": [
      "[[ 2  2  4]\n",
      " [ 5  5  7]\n",
      " [ 8  8 10]\n",
      " [11 11 13]]\n"
     ]
    }
   ],
   "metadata": {
    "id": "sLLjTZW3s1RY",
    "outputId": "a49b0e24-35ff-419b-99fb-f657394dc0a5"
   }
  },
  {
   "cell_type": "markdown",
   "source": [
    "Esto funciona; sin embargo, cuando la matriz x es muy grande, calcular un bucle explícito en Python podría ser lento. Tenga en cuenta que agregar el vector va cada fila de la matriz x es equivalente a formar una matriz vv apilando múltiples copias de v verticalmente, luego realizando la suma de elementos de x y vv. Podríamos implementar este enfoque de esta manera:"
   ],
   "metadata": {
    "id": "d84s3Crss1RY"
   }
  },
  {
   "cell_type": "code",
   "execution_count": null,
   "source": [
    "import numpy as np\n",
    "\n",
    "# Añadiremos el vector v a cada fila de la matriz x,\n",
    "# almacenando el resultado en la matriz y\n",
    "x = np.array([[1,2,3], [4,5,6], [7,8,9], [10, 11, 12]])\n",
    "v = np.array([1, 0, 1])\n",
    "vv = np.tile(v, (4, 1))   # Amontonar 4 copias de V una encima de la otra\n",
    "print(vv)                 # Prints \"[[1 0 1]\n",
    "                          #          [1 0 1]\n",
    "                          #          [1 0 1]\n",
    "                          #          [1 0 1]]\"\n",
    "y = x + vv  # Agrega x y vv elementalmente\n",
    "print(y)  # Prints \"[[ 2  2  4\n",
    "          #          [ 5  5  7]\n",
    "          #          [ 8  8 10]\n",
    "          #          [11 11 13]]\""
   ],
   "outputs": [
    {
     "output_type": "stream",
     "name": "stdout",
     "text": [
      "[[1 0 1]\n",
      " [1 0 1]\n",
      " [1 0 1]\n",
      " [1 0 1]]\n",
      "[[ 2  2  4]\n",
      " [ 5  5  7]\n",
      " [ 8  8 10]\n",
      " [11 11 13]]\n"
     ]
    }
   ],
   "metadata": {
    "id": "x-69Lrpbs1RY",
    "outputId": "cf067f59-7efa-4d41-cd8e-37ce921f25cd"
   }
  },
  {
   "cell_type": "markdown",
   "source": [
    "El Broadcasting Numpy nos permite realizar este cálculo sin crear realmente múltiples copias de v. Considere esta versión, usando transmisión:"
   ],
   "metadata": {
    "id": "PK6zq5dus1RY"
   }
  },
  {
   "cell_type": "code",
   "execution_count": 2,
   "source": [
    "import numpy as np\n",
    "\n",
    "# We will add the vector v to each row of the matrix x,\n",
    "# storing the result in the matrix y\n",
    "x = np.array([[1,2,3], [4,5,6], [7,8,9], [10, 11, 12]])\n",
    "v = np.array([[1, 0],[3, 0]])\n",
    "print(v)\n",
    "print(3 in np.sum(v,axis=0))\n",
    "#y = x + v  # Añada v a cada fila de x utilizando la radiodifusión\n",
    "#print(y)  # Prints \"[[ 2  2  4]\n",
    "          #          [ 5  5  7]\n",
    "          #          [ 8  8 10]\n",
    "          #          [11 11 13]]\""
   ],
   "outputs": [
    {
     "output_type": "error",
     "ename": "ModuleNotFoundError",
     "evalue": "No module named 'numpy'",
     "traceback": [
      "\u001b[1;31m---------------------------------------------------------------------------\u001b[0m",
      "\u001b[1;31mModuleNotFoundError\u001b[0m                       Traceback (most recent call last)",
      "\u001b[1;32mC:\\Users\\MAKEDR~1\\AppData\\Local\\Temp/ipykernel_11244/3593899653.py\u001b[0m in \u001b[0;36m<module>\u001b[1;34m\u001b[0m\n\u001b[1;32m----> 1\u001b[1;33m \u001b[1;32mimport\u001b[0m \u001b[0mnumpy\u001b[0m \u001b[1;32mas\u001b[0m \u001b[0mnp\u001b[0m\u001b[1;33m\u001b[0m\u001b[1;33m\u001b[0m\u001b[0m\n\u001b[0m\u001b[0;32m      2\u001b[0m \u001b[1;33m\u001b[0m\u001b[0m\n\u001b[0;32m      3\u001b[0m \u001b[1;31m# We will add the vector v to each row of the matrix x,\u001b[0m\u001b[1;33m\u001b[0m\u001b[1;33m\u001b[0m\u001b[1;33m\u001b[0m\u001b[0m\n\u001b[0;32m      4\u001b[0m \u001b[1;31m# storing the result in the matrix y\u001b[0m\u001b[1;33m\u001b[0m\u001b[1;33m\u001b[0m\u001b[1;33m\u001b[0m\u001b[0m\n\u001b[0;32m      5\u001b[0m \u001b[0mx\u001b[0m \u001b[1;33m=\u001b[0m \u001b[0mnp\u001b[0m\u001b[1;33m.\u001b[0m\u001b[0marray\u001b[0m\u001b[1;33m(\u001b[0m\u001b[1;33m[\u001b[0m\u001b[1;33m[\u001b[0m\u001b[1;36m1\u001b[0m\u001b[1;33m,\u001b[0m\u001b[1;36m2\u001b[0m\u001b[1;33m,\u001b[0m\u001b[1;36m3\u001b[0m\u001b[1;33m]\u001b[0m\u001b[1;33m,\u001b[0m \u001b[1;33m[\u001b[0m\u001b[1;36m4\u001b[0m\u001b[1;33m,\u001b[0m\u001b[1;36m5\u001b[0m\u001b[1;33m,\u001b[0m\u001b[1;36m6\u001b[0m\u001b[1;33m]\u001b[0m\u001b[1;33m,\u001b[0m \u001b[1;33m[\u001b[0m\u001b[1;36m7\u001b[0m\u001b[1;33m,\u001b[0m\u001b[1;36m8\u001b[0m\u001b[1;33m,\u001b[0m\u001b[1;36m9\u001b[0m\u001b[1;33m]\u001b[0m\u001b[1;33m,\u001b[0m \u001b[1;33m[\u001b[0m\u001b[1;36m10\u001b[0m\u001b[1;33m,\u001b[0m \u001b[1;36m11\u001b[0m\u001b[1;33m,\u001b[0m \u001b[1;36m12\u001b[0m\u001b[1;33m]\u001b[0m\u001b[1;33m]\u001b[0m\u001b[1;33m)\u001b[0m\u001b[1;33m\u001b[0m\u001b[1;33m\u001b[0m\u001b[0m\n",
      "\u001b[1;31mModuleNotFoundError\u001b[0m: No module named 'numpy'"
     ]
    }
   ],
   "metadata": {
    "id": "jayje-7ns1RY",
    "outputId": "6f2fba19-9cb6-4e51-e3c1-12615c2c2917"
   }
  },
  {
   "cell_type": "markdown",
   "source": [
    "La línea y = x + v funciona aunque x tiene forma (4, 3) y v tiene forma (3,) debido a la transmisión; esta línea funciona como si v realmente tuviera forma (4, 3), donde cada fila era una copia de v, y la suma se realizó por elementos."
   ],
   "metadata": {
    "id": "J_hTkziSs1RZ"
   }
  },
  {
   "cell_type": "markdown",
   "source": [
    "# El Broadcasting de dos matrices juntas sigue estas reglas:\n",
    "\n",
    "1. Si las matrices no tienen el mismo rango, anteponga 1 a la forma de la matriz de rango inferior hasta que ambas formas tengan la misma longitud.\n",
    "\n",
    "2. Se dice que las dos matrices son compatibles en una dimensión si tienen el mismo tamaño en la dimensión, o si una de las matrices tiene el tamaño 1 en esa dimensión.\n",
    "\n",
    "3. Los arreglos se pueden transmitir juntos si son compatibles en todas las dimensiones.\n",
    "\n",
    "3. Después de la transmisión, cada matriz se comporta como si tuviese una forma igual al máximo de formas de las dos matrices de entrada.\n",
    "\n",
    "5. En cualquier dimensión donde una matriz tiene un tamaño 1 y la otra matriz tiene un tamaño mayor que 1, la primera matriz se comporta como si se hubiera copiado a lo largo de esa dimensión.\n",
    "\n",
    "Ver\n",
    "\n",
    "https://numpy.org/doc/stable/user/basics.broadcasting.html\n",
    "http://scipy.github.io/old-wiki/pages/EricsBroadcastingDoc\n",
    "\n",
    "Las funciones que apoyan el Broadcasting se conocen como funciones universales. Puede encontrar la lista de todas las funciones universales en la documentación.\n",
    "\n",
    "https://numpy.org/doc/stable/reference/ufuncs.html#available-ufuncs\n",
    "\n",
    "Estas son algunas aplicaciones del Broadcasting:"
   ],
   "metadata": {
    "id": "wGHVPPqks1RZ"
   }
  },
  {
   "cell_type": "code",
   "execution_count": null,
   "source": [
    "import numpy as np\n",
    "\n",
    "# Calcular el producto exterior de los vectores\n",
    "v = np.array([1,2,3]) # v tiene forma (3,)\n",
    "w = np.array([4,5]) # w tiene forma (2,)\n",
    "# Para calcular un producto exterior, primero reformamos v para que sea una columna\n",
    "# vector de forma (3, 1); podemos entonces emitirlo contra w para rendir\n",
    "# una salida de la forma (3, 2), que es el producto exterior de v y w:\n",
    "# [[ 4 5]\n",
    "# [ 8 10]\n",
    "# [12 15]]\n",
    "print(np.reshape(v, (3, 1)) * w)"
   ],
   "outputs": [
    {
     "output_type": "stream",
     "name": "stdout",
     "text": [
      "[[ 4  5]\n",
      " [ 8 10]\n",
      " [12 15]]\n"
     ]
    }
   ],
   "metadata": {
    "id": "ApVUpqfws1RZ",
    "outputId": "5583cb28-d872-48ea-d4c5-ca0104251049"
   }
  },
  {
   "cell_type": "code",
   "execution_count": null,
   "source": [
    "# Agregar un vector a cada fila de una matriz\n",
    "x = np.array([[1,2,3], [4,5,6]])\n",
    "# x tiene forma (2, 3) y v tiene forma (3,) por lo que transmiten a (2, 3),\n",
    "# dando la siguiente matriz:\n",
    "# [[2 4 6]\n",
    "# [5 7 9]]\n",
    "print(x + v)"
   ],
   "outputs": [
    {
     "output_type": "stream",
     "name": "stdout",
     "text": [
      "[[2 4 6]\n",
      " [5 7 9]]\n"
     ]
    }
   ],
   "metadata": {
    "id": "9bdNvYzYs1RZ",
    "outputId": "0ba2aa61-5932-49ea-d5b8-95522a7166ee"
   }
  },
  {
   "cell_type": "code",
   "execution_count": null,
   "source": [
    "# Agregar un vector a cada columna de una matriz\n",
    "# La x tiene forma (2, 3) y la w tiene forma (2,).\n",
    "# Si transponemos x entonces tiene forma (3, 2) y puede ser difundida\n",
    "# contra w para obtener el resultado de la forma (3, 2); transponiendo este resultado\n",
    "# produce el resultado final de la forma (2, 3) que es la matriz x con\n",
    "# el vector w añadido a cada columna. Da la siguiente matriz:\n",
    "# [[ 5 6 7]\n",
    "# [ 9 10 11]]\n",
    "print((x.T + w).T)"
   ],
   "outputs": [
    {
     "output_type": "stream",
     "name": "stdout",
     "text": [
      "[[ 5  6  7]\n",
      " [ 9 10 11]]\n"
     ]
    }
   ],
   "metadata": {
    "id": "2bE6OUj2s1RZ",
    "outputId": "869d9708-cebf-4dba-bd65-f3e79f6837ce"
   }
  },
  {
   "cell_type": "code",
   "execution_count": null,
   "source": [
    "# Otra solución es remodelar la w para que sea un vector de forma de la columna (2, 1);\n",
    "# podemos entonces emitirlo directamente contra x para producir la misma\n",
    "# salida.\n",
    "print(x + np.reshape(w, (2, 1)))"
   ],
   "outputs": [
    {
     "output_type": "stream",
     "name": "stdout",
     "text": [
      "[[ 5  6  7]\n",
      " [ 9 10 11]]\n"
     ]
    }
   ],
   "metadata": {
    "id": "0S_sINPas1Ra",
    "outputId": "ce8d23c7-7211-48b4-af4f-cd0fcb17d9ac"
   }
  },
  {
   "cell_type": "code",
   "execution_count": null,
   "source": [
    "# Multiplica una matriz por una constante:\n",
    "# x tiene forma (2, 3). Numpy trata los escalares como matrices de forma ();\n",
    "# estos pueden ser emitidos juntos a la forma (2, 3), produciendo el\n",
    "# Siguiendo la matriz:\n",
    "# [[ 2 4 6]\n",
    "# [ 8 10 12]]\n",
    "print(x * 2)"
   ],
   "outputs": [
    {
     "output_type": "stream",
     "name": "stdout",
     "text": [
      "[[ 2  4  6]\n",
      " [ 8 10 12]]\n"
     ]
    }
   ],
   "metadata": {
    "id": "e-ENwxf5s1Ra",
    "outputId": "f798f567-8444-4949-faa1-453d82327f29"
   }
  },
  {
   "cell_type": "markdown",
   "source": [
    "El Broadcasting suele hacer que su código sea más conciso y rápido, por lo que debe esforzarse por utilizarlo siempre que sea posible.\n",
    "\n",
    "Documentación Numpy\n",
    "Esta breve descripción general ha abordado muchas de las cosas importantes que necesita saber sobre numpy, pero está lejos de ser completa. Consulte la referencia de numpy para obtener más información sobre numpy.\n",
    "\n",
    "https://numpy.org/doc/stable/reference/"
   ],
   "metadata": {
    "id": "Xse1oMyOs1Ra"
   }
  },
  {
   "cell_type": "markdown",
   "source": [
    "## Ejercicio Triqui (tres en linea, juego de la vieja, tres en raya, etc.)"
   ],
   "metadata": {
    "id": "4_QB-ELVs1Ra"
   }
  },
  {
   "cell_type": "code",
   "execution_count": null,
   "source": [
    "import numpy as np\n",
    "\n",
    "def displayInicialTriqui():\n",
    "    for i in range(0,3):\n",
    "        for j in range(0,3):\n",
    "            print(\"|_\",end=\"\")\n",
    "        print(\"|\")\n",
    "\n",
    "def displayTriqui(matriz):\n",
    "    for i in range(0,3):\n",
    "        for j in range(0,3):\n",
    "            if matriz[i,j]==1:\n",
    "                print(\"|X\", end=\"\")\n",
    "            else:\n",
    "                if matriz[i,j]==10:\n",
    "                    print(\"|O\",end=\"\")\n",
    "                else:\n",
    "                    print(\"|_\",end=\"\")\n",
    "        print(\"|\")\n",
    "        \n",
    "def estadoDelJuego(matriz)->int:\n",
    "    #devuelve 1 si gana la X\n",
    "    if 3 in np.sum(matriz, axis=0) or 3 in np.sum(matriz, axis=1) or np.sum(np.diagonal(matriz))==3 or np.sum(np.diagonal(np.fliplr(matriz)))==3:\n",
    "        salida = 1\n",
    "    else:\n",
    "        #devuelve 2 si gana la Y\n",
    "        if 30 in np.sum(matriz, axis=0) or 30 in np.sum(matriz, axis=1) or np.sum(np.diagonal(matriz))==30 or np.sum(np.diagonal(np.fliplr(matriz)))==30:\n",
    "            salida = 2\n",
    "        else:\n",
    "            #devuelve 3 si no hay ganador\n",
    "            if np.sum(matriz)==45 or np.sum(matriz)==54:\n",
    "                salida = 3\n",
    "            else:\n",
    "                #devuelve 4 si aun hay juego\n",
    "                salida = 4\n",
    "    return salida\n",
    "\n",
    "def jugarTriqui():\n",
    "    #seleccionar aleatoriamente un jugador\n",
    "    turno=False\n",
    "    if np.random.rand()<0.5:\n",
    "        turno=True\n",
    "    #inicializar las variables del juego\n",
    "    displayInicialTriqui()\n",
    "    matriz = np.zeros((3,3))   # Crear una matriz de todos los ceros\n",
    "    estado=4\n",
    "    while(estado==4):\n",
    "        #atrapar el movimiento de los jugadores\n",
    "        tupla= tuple(input(\"Ingrese la casilla a jugar, ej: la casilla superior derecha es 1,3: \"))\n",
    "        #convertir la notacion de los jugadores a los indices de la matriz\n",
    "        x=int(tupla[0])-1\n",
    "        y=int(tupla[2])-1\n",
    "        #validar movimiento dentro del tablero\n",
    "        if x>=0 and x<= 2 and y>=0 and y<=2:\n",
    "            #validar movimiento no antes hecho\n",
    "            if matriz[x,y]==0:\n",
    "                if turno:\n",
    "                    matriz[x,y]=1\n",
    "                else:\n",
    "                    matriz[x,y]=10\n",
    "                #llamar la funcion del estado del juego\n",
    "                estado = estadoDelJuego(matriz)\n",
    "                #llamar el visualizador\n",
    "                displayTriqui(matriz)\n",
    "                #cambiar de turno\n",
    "                turno=not(turno)\n",
    "            else:\n",
    "                print(\"Recuerde jugar en casillas vacias!\")\n",
    "        else:\n",
    "            print(\"Recuerda que el tablero es de 3 por 3!  ej: la casilla inferior izquierda es 3,1\")\n",
    "    # Publicar el resultado del juego\n",
    "    if estado == 1 :\n",
    "        print(\"El jugador X ha ganado!\")\n",
    "    else:\n",
    "        if estado == 2 :\n",
    "            print(\"El jugador O ha ganado!\")\n",
    "        else:\n",
    "            print(\"No hubo ganadores!\")"
   ],
   "outputs": [],
   "metadata": {
    "id": "C3qS2_6Fs1Rb"
   }
  }
 ],
 "metadata": {
  "colab": {
   "name": "Numpy1.ipynb",
   "provenance": []
  },
  "kernelspec": {
   "display_name": "Python 3 (ipykernel)",
   "language": "python",
   "name": "python3"
  },
  "language_info": {
   "codemirror_mode": {
    "name": "ipython",
    "version": 3
   },
   "file_extension": ".py",
   "mimetype": "text/x-python",
   "name": "python",
   "nbconvert_exporter": "python",
   "pygments_lexer": "ipython3",
   "version": "3.9.6"
  }
 },
 "nbformat": 4,
 "nbformat_minor": 1
}