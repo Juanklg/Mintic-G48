{
 "cells": [
  {
   "cell_type": "markdown",
   "id": "970b2e6a",
   "metadata": {},
   "source": [
    "# Clase 3  sec 1.2 con Jupyer"
   ]
  },
  {
   "cell_type": "code",
   "execution_count": 1,
   "id": "3646bc28",
   "metadata": {},
   "outputs": [
    {
     "name": "stdout",
     "output_type": "stream",
     "text": [
      "Hola python desde jupyter\n"
     ]
    }
   ],
   "source": [
    "print(\"Hola python desde jupyter\")"
   ]
  },
  {
   "cell_type": "code",
   "execution_count": 4,
   "id": "7a62175a",
   "metadata": {},
   "outputs": [
    {
     "name": "stdout",
     "output_type": "stream",
     "text": [
      "1.26\n",
      "<class 'float'>\n",
      "1\n"
     ]
    }
   ],
   "source": [
    "var = 1.26\n",
    "print(var)\n",
    "print(type(var))\n",
    "var1 = int(var)\n",
    "print(var1)"
   ]
  },
  {
   "cell_type": "code",
   "execution_count": 6,
   "id": "94426ad0",
   "metadata": {},
   "outputs": [
    {
     "name": "stdout",
     "output_type": "stream",
     "text": [
      "las var de la 1 a la 3 son = 200 200 200\n",
      "las var de la 1 a la 3 son = 10 20 30\n"
     ]
    }
   ],
   "source": [
    "var1 = var2 = var3 = 200\n",
    "print(f\"las var de la 1 a la 3 son = {var1} {var2} {var3}\")\n",
    "var1,var2,var3=10,20,30\n",
    "print(f\"las var de la 1 a la 3 son = {var1} {var2} {var3}\")"
   ]
  },
  {
   "cell_type": "code",
   "execution_count": 2,
   "id": "53df1152",
   "metadata": {},
   "outputs": [
    {
     "name": "stdout",
     "output_type": "stream",
     "text": [
      "Aca empieza mi codigo--------------------------------------\n",
      "Hola Juan\n",
      "1\n",
      "2\n",
      "Aca termina mi codigo--------------------------------------\n"
     ]
    }
   ],
   "source": [
    "print(\"Aca empieza mi codigo--------------------------------------\")\n",
    "#asi se crea una variable numerica\n",
    "numero = 1\n",
    "#asi se crea una variable tipo string\n",
    "nombre = \"Juan\"\n",
    "#asi se imprime un texto con una variable\n",
    "print(\"Hola \"+nombre)\n",
    "#asi se imprime en consola o en terminal\n",
    "print(numero)\n",
    "#asi se hace un incremento de una variable\n",
    "numero = numero + 1\n",
    "print(numero)\n",
    "print(\"Aca termina mi codigo--------------------------------------\")"
   ]
  }
 ],
 "metadata": {
  "interpreter": {
   "hash": "ea2f29cb02daac3055d28732bfaf6401dbc5c2cdb9d0eab410ecef7e9c6925df"
  },
  "kernelspec": {
   "display_name": "Python 3 (ipykernel)",
   "language": "python",
   "name": "python3"
  },
  "language_info": {
   "codemirror_mode": {
    "name": "ipython",
    "version": 3
   },
   "file_extension": ".py",
   "mimetype": "text/x-python",
   "name": "python",
   "nbconvert_exporter": "python",
   "pygments_lexer": "ipython3",
   "version": "3.9.6"
  }
 },
 "nbformat": 4,
 "nbformat_minor": 5
}
